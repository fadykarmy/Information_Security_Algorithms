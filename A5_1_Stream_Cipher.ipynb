{
 "cells": [
  {
   "cell_type": "code",
   "execution_count": null,
   "id": "621cef68",
   "metadata": {},
   "outputs": [],
   "source": [
    "\n",
    "def ToBinary(txt):\n",
    "    res = ''.join(format(ord(i), '08b') for i in txt)\n",
    "    return res\n",
    "\n",
    "def maj(value1, value2, value3):\n",
    "    if (int(value1) + int(value2) + int(value3)) >= 2:\n",
    "        return 1\n",
    "    else:\n",
    "        return 0\n",
    "\n",
    "message = str(input(\"Hello, Enter your message: \"))\n",
    "key = str(input(\"Enter key, please key consists of 8 characters: \"))\n",
    "\n",
    "if len(key) != 8:\n",
    "    print(\"Not Allowed\")\n",
    "    exit()\n",
    "\n",
    "# Convert to binary representation\n",
    "binPlainText = ToBinary(message)\n",
    "binKey = ToBinary(key)\n",
    "\n",
    "print(\"Binary Plain Text = \", binPlainText)\n",
    "print(\"Binary key = \", binKey)\n",
    "\n",
    "# Initialize shift registers\n",
    "registerX = list(binKey[:19])\n",
    "registerY = list(binKey[19:41])\n",
    "registerZ = list(binKey[41:])\n",
    "keyStream = []\n",
    "\n",
    "# Generate key stream\n",
    "for i in range(len(binPlainText)):\n",
    "    m = maj(registerX[8], registerY[10], registerZ[10])\n",
    "    if registerX[8] == str(m):\n",
    "        tX = int(registerX[13]) ^ int(registerX[16]) ^ int(registerX[17]) ^ int(registerX[18])\n",
    "        for j in range(len(registerX)-1, 0, -1):\n",
    "            registerX[j] = registerX[j-1]\n",
    "        registerX[0] = str(tX)\n",
    "\n",
    "    if registerY[10] == str(m):\n",
    "        tY = int(registerY[20]) ^ int(registerY[21])\n",
    "        for j in range(len(registerY)-1, 0, -1):\n",
    "            registerY[j] = registerY[j-1]\n",
    "        registerY[0] = str(tY)\n",
    "\n",
    "    if registerZ[10] == str(m):\n",
    "        tZ = int(registerZ[7]) ^ int(registerZ[20]) ^ int(registerZ[21]) ^ int(registerZ[22])\n",
    "        for j in range(len(registerZ)-1, 0, -1):\n",
    "            registerZ[j] = registerZ[j-1]\n",
    "        registerZ[0] = str(tZ)\n",
    "    \n",
    "    bit = int(registerX[18]) ^ int(registerY[21]) ^ int(registerZ[22])\n",
    "    keyStream.append(bit)\n",
    "\n",
    "encrypted_binary = [str(int(binPlainText[i]) ^ keyStream[i]) for i in range(len(binPlainText))]\n",
    "encrypted_text = ''.join(chr(int(''.join(encrypted_binary[i:i+8]), 2)) for i in range(0, len(encrypted_binary), 8))\n",
    "\n",
    "print(\"Key Stream : \", keyStream)\n",
    "\n",
    "print(\"Encrypted text in binary: \", encrypted_binary)\n",
    "print(\"Encrypted text: \", encrypted_text)\n"
   ]
  },
  {
   "cell_type": "code",
   "execution_count": null,
   "id": "1080b5c3",
   "metadata": {},
   "outputs": [],
   "source": [
    "# Decrypt ciphertext using key stream\n",
    "decrypted_binary = [str(int(encrypted_binary[i]) ^ keyStream[i]) for i in range(len(encrypted_binary))]\n",
    "decrypted_text = ''.join(chr(int(''.join(decrypted_binary[i:i+8]), 2)) for i in range(0, len(decrypted_binary), 8))\n",
    "\n",
    "print(\"Decrypted text in binary: \", decrypted_binary)\n",
    "print(\"Decrypted text: \", decrypted_text)\n"
   ]
  },
  {
   "cell_type": "code",
   "execution_count": null,
   "id": "49dde7eb",
   "metadata": {},
   "outputs": [],
   "source": []
  },
  {
   "cell_type": "code",
   "execution_count": null,
   "id": "497098d0",
   "metadata": {},
   "outputs": [],
   "source": []
  }
 ],
 "metadata": {
  "kernelspec": {
   "display_name": "Python 3 (ipykernel)",
   "language": "python",
   "name": "python3"
  },
  "language_info": {
   "codemirror_mode": {
    "name": "ipython",
    "version": 3
   },
   "file_extension": ".py",
   "mimetype": "text/x-python",
   "name": "python",
   "nbconvert_exporter": "python",
   "pygments_lexer": "ipython3",
   "version": "3.11.5"
  }
 },
 "nbformat": 4,
 "nbformat_minor": 5
}
