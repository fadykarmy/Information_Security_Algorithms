{
  "nbformat": 4,
  "nbformat_minor": 0,
  "metadata": {
    "colab": {
      "provenance": [],
      "gpuType": "T4",
      "authorship_tag": "ABX9TyMVeOEKSZz9g8OwgWBLfpFJ",
      "include_colab_link": true
    },
    "kernelspec": {
      "name": "python3",
      "display_name": "Python 3"
    },
    "language_info": {
      "name": "python"
    }
  },
  "cells": [
    {
      "cell_type": "markdown",
      "metadata": {
        "id": "view-in-github",
        "colab_type": "text"
      },
      "source": [
        "<a href=\"https://colab.research.google.com/github/fadykarmy/Information_Security_Algorithms/blob/main/RSA_implementation.ipynb\" target=\"_parent\"><img src=\"https://colab.research.google.com/assets/colab-badge.svg\" alt=\"Open In Colab\"/></a>"
      ]
    },
    {
      "cell_type": "markdown",
      "source": [
        "**implement RSA algorithm**"
      ],
      "metadata": {
        "id": "3oOycEFp5O9v"
      }
    },
    {
      "cell_type": "code",
      "source": [
        "from math import gcd\n",
        "##end\n",
        "p = 997\n",
        "q = 1049\n",
        "N = p * q\n",
        "Phi_n = (p - 1) * (q - 1)\n",
        "\n",
        "# Selecting public key, e\n",
        "for i in range(2, Phi_n):\n",
        "    if gcd(i, Phi_n) == 1:\n",
        "        e = i\n",
        "        break\n",
        "\n",
        "\n",
        "# Calculate private exponent d using the extended Euclidean algorithm\n",
        "def find_d(a, m):\n",
        "    m0, x0, x1 = m, 0, 1\n",
        "    while a > 1:\n",
        "        q = a // m\n",
        "        m, a = a % m, m\n",
        "        x0, x1 = x1 - q * x0, x0\n",
        "    return x1 + m0 if x1 < 0 else x1\n",
        "\n",
        "d=find_d(e, Phi_n)\n",
        "\n",
        "#m = 6\n",
        "m=int(input(\"Hi!,welcome to my program...please enter your message? : \"))\n",
        "print()\n",
        "way=input(\"Enter E for Encryption OR D for Decreption : \")\n",
        "print()\n",
        "\n",
        "if(way==\"E\" or way==\"e\"):\n",
        "\n",
        "  c = (m**e) % N\n",
        "  print(\"Ciphertext:\", c)\n",
        "\n",
        "elif(way==\"D\" or way==\"d\"):\n",
        "\n",
        "  decrypted_message = (c**d) % N\n",
        "  print(\"Decrypted message:\", decrypted_message)\n",
        "\n",
        "else:\n",
        "  print(\"Error,please try again\")\n",
        "\n",
        "print()\n",
        "print(\"##### Thanks for using my program,developed by Fady Karmy #####\")"
      ],
      "metadata": {
        "colab": {
          "base_uri": "https://localhost:8080/"
        },
        "id": "KB_ljmM9tIsh",
        "outputId": "528f1fb2-006e-46bb-9b5a-c3eaad440693"
      },
      "execution_count": 20,
      "outputs": [
        {
          "output_type": "stream",
          "name": "stdout",
          "text": [
            "Hi!,welcome to my program...please enter your message? : 6\n",
            "\n",
            "Enter E for Encryption OR D for Decreption : e\n",
            "\n",
            "Ciphertext: 7776\n",
            "\n",
            "##### Thanks for using my program,developed by Fady Karmy #####\n"
          ]
        }
      ]
    }
  ]
}